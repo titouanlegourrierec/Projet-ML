{
 "cells": [
  {
   "cell_type": "code",
   "execution_count": 1,
   "metadata": {},
   "outputs": [
    {
     "name": "stdout",
     "output_type": "stream",
     "text": [
      "WARNING:tensorflow:From C:\\Users\\Eleves\\AppData\\Local\\Packages\\PythonSoftwareFoundation.Python.3.11_qbz5n2kfra8p0\\LocalCache\\local-packages\\Python311\\site-packages\\keras\\src\\losses.py:2976: The name tf.losses.sparse_softmax_cross_entropy is deprecated. Please use tf.compat.v1.losses.sparse_softmax_cross_entropy instead.\n",
      "\n"
     ]
    }
   ],
   "source": [
    "import os\n",
    "import pandas as pd\n",
    "import tensorflow as tf"
   ]
  },
  {
   "cell_type": "code",
   "execution_count": 2,
   "metadata": {},
   "outputs": [
    {
     "name": "stdout",
     "output_type": "stream",
     "text": [
      "                                                   file      label\n",
      "0             chest_xray/train/NORMAL\\IM-0115-0001.jpeg     normal\n",
      "1             chest_xray/train/NORMAL\\IM-0117-0001.jpeg     normal\n",
      "2             chest_xray/train/NORMAL\\IM-0119-0001.jpeg     normal\n",
      "3             chest_xray/train/NORMAL\\IM-0122-0001.jpeg     normal\n",
      "4             chest_xray/train/NORMAL\\IM-0125-0001.jpeg     normal\n",
      "...                                                 ...        ...\n",
      "3787  chest_xray/train/PNEUMONIA\\person438_bacteria_...  pneumonia\n",
      "3788  chest_xray/train/PNEUMONIA\\person438_bacteria_...  pneumonia\n",
      "3789  chest_xray/train/PNEUMONIA\\person438_bacteria_...  pneumonia\n",
      "3790  chest_xray/train/PNEUMONIA\\person438_bacteria_...  pneumonia\n",
      "3791  chest_xray/train/PNEUMONIA\\person438_bacteria_...  pneumonia\n",
      "\n",
      "[3792 rows x 2 columns]\n"
     ]
    }
   ],
   "source": [
    "\n",
    "# Define the directory paths\n",
    "normal_dir = 'chest_xray/train/NORMAL'\n",
    "pneumonia_dir = 'chest_xray/train/PNEUMONIA'\n",
    "\n",
    "# Get the list of all files in each directory\n",
    "normal_files = [os.path.join(normal_dir, file) for file in os.listdir(normal_dir)]\n",
    "pneumonia_files = [os.path.join(pneumonia_dir, file) for file in os.listdir(pneumonia_dir)]\n",
    "\n",
    "# Create a DataFrame\n",
    "train_df = pd.DataFrame({\n",
    "    'file': normal_files + pneumonia_files,\n",
    "    'label': ['normal'] * len(normal_files) + ['pneumonia'] * len(pneumonia_files)\n",
    "})\n",
    "\n",
    "print(train_df)"
   ]
  },
  {
   "cell_type": "code",
   "execution_count": 3,
   "metadata": {},
   "outputs": [
    {
     "name": "stdout",
     "output_type": "stream",
     "text": [
      "                                                  file      label\n",
      "0             chest_xray/test/NORMAL\\IM-0001-0001.jpeg     normal\n",
      "1             chest_xray/test/NORMAL\\IM-0003-0001.jpeg     normal\n",
      "2             chest_xray/test/NORMAL\\IM-0005-0001.jpeg     normal\n",
      "3             chest_xray/test/NORMAL\\IM-0006-0001.jpeg     normal\n",
      "4             chest_xray/test/NORMAL\\IM-0007-0001.jpeg     normal\n",
      "..                                                 ...        ...\n",
      "619  chest_xray/test/PNEUMONIA\\person96_bacteria_46...  pneumonia\n",
      "620  chest_xray/test/PNEUMONIA\\person96_bacteria_46...  pneumonia\n",
      "621  chest_xray/test/PNEUMONIA\\person97_bacteria_46...  pneumonia\n",
      "622  chest_xray/test/PNEUMONIA\\person99_bacteria_47...  pneumonia\n",
      "623  chest_xray/test/PNEUMONIA\\person99_bacteria_47...  pneumonia\n",
      "\n",
      "[624 rows x 2 columns]\n"
     ]
    }
   ],
   "source": [
    "# Define the directory paths\n",
    "normal_dir = 'chest_xray/test/NORMAL'\n",
    "pneumonia_dir = 'chest_xray/test/PNEUMONIA'\n",
    "\n",
    "# Get the list of all files in each directory\n",
    "normal_files = [os.path.join(normal_dir, file) for file in os.listdir(normal_dir)]\n",
    "pneumonia_files = [os.path.join(pneumonia_dir, file) for file in os.listdir(pneumonia_dir)]\n",
    "\n",
    "# Create a DataFrame\n",
    "test_df = pd.DataFrame({\n",
    "    'file': normal_files + pneumonia_files,\n",
    "    'label': ['normal'] * len(normal_files) + ['pneumonia'] * len(pneumonia_files)\n",
    "})\n",
    "\n",
    "print(test_df)"
   ]
  },
  {
   "cell_type": "code",
   "execution_count": 4,
   "metadata": {},
   "outputs": [
    {
     "name": "stdout",
     "output_type": "stream",
     "text": [
      "                                                 file      label\n",
      "0     chest_xray/val/NORMAL\\NORMAL2-IM-1427-0001.jpeg     normal\n",
      "1     chest_xray/val/NORMAL\\NORMAL2-IM-1430-0001.jpeg     normal\n",
      "2     chest_xray/val/NORMAL\\NORMAL2-IM-1431-0001.jpeg     normal\n",
      "3     chest_xray/val/NORMAL\\NORMAL2-IM-1436-0001.jpeg     normal\n",
      "4     chest_xray/val/NORMAL\\NORMAL2-IM-1437-0001.jpeg     normal\n",
      "5     chest_xray/val/NORMAL\\NORMAL2-IM-1438-0001.jpeg     normal\n",
      "6     chest_xray/val/NORMAL\\NORMAL2-IM-1440-0001.jpeg     normal\n",
      "7     chest_xray/val/NORMAL\\NORMAL2-IM-1442-0001.jpeg     normal\n",
      "8   chest_xray/val/PNEUMONIA\\person1946_bacteria_4...  pneumonia\n",
      "9   chest_xray/val/PNEUMONIA\\person1946_bacteria_4...  pneumonia\n",
      "10  chest_xray/val/PNEUMONIA\\person1947_bacteria_4...  pneumonia\n",
      "11  chest_xray/val/PNEUMONIA\\person1949_bacteria_4...  pneumonia\n",
      "12  chest_xray/val/PNEUMONIA\\person1950_bacteria_4...  pneumonia\n",
      "13  chest_xray/val/PNEUMONIA\\person1951_bacteria_4...  pneumonia\n",
      "14  chest_xray/val/PNEUMONIA\\person1952_bacteria_4...  pneumonia\n",
      "15  chest_xray/val/PNEUMONIA\\person1954_bacteria_4...  pneumonia\n"
     ]
    }
   ],
   "source": [
    "# Define the directory paths\n",
    "normal_dir = 'chest_xray/val/NORMAL'\n",
    "pneumonia_dir = 'chest_xray/val/PNEUMONIA'\n",
    "\n",
    "# Get the list of all files in each directory\n",
    "normal_files = [os.path.join(normal_dir, file) for file in os.listdir(normal_dir)]\n",
    "pneumonia_files = [os.path.join(pneumonia_dir, file) for file in os.listdir(pneumonia_dir)]\n",
    "\n",
    "# Create a DataFrame\n",
    "val_df = pd.DataFrame({\n",
    "    'file': normal_files + pneumonia_files,\n",
    "    'label': ['normal'] * len(normal_files) + ['pneumonia'] * len(pneumonia_files)\n",
    "})\n",
    "\n",
    "print(val_df)"
   ]
  },
  {
   "cell_type": "markdown",
   "metadata": {},
   "source": [
    "Générateur des images"
   ]
  },
  {
   "cell_type": "code",
   "execution_count": 6,
   "metadata": {},
   "outputs": [
    {
     "name": "stdout",
     "output_type": "stream",
     "text": [
      "Found 3792 validated image filenames belonging to 2 classes.\n",
      "Found 16 validated image filenames belonging to 2 classes.\n",
      "Found 624 validated image filenames belonging to 2 classes.\n"
     ]
    }
   ],
   "source": [
    "# Initialize the ImageDataGenerator\n",
    "datagen = tf.keras.preprocessing.image.ImageDataGenerator(\n",
    "    rescale=1./255.,  # scale pixel values to [0, 1]\n",
    "    shear_range=0.2,  # randomly apply shearing transformations\n",
    "    zoom_range=0.2,  # randomly zooming inside pictures\n",
    "    horizontal_flip=True  # randomly flip half of the images horizontally\n",
    ")\n",
    "\n",
    "train_generator = datagen.flow_from_dataframe(\n",
    "    dataframe=train_df,\n",
    "    x_col=\"file\",\n",
    "    y_col=\"label\",\n",
    "    target_size=(150, 150),\n",
    "    batch_size=32,\n",
    "    class_mode='binary')\n",
    "\n",
    "validation_generator = datagen.flow_from_dataframe(\n",
    "    dataframe=val_df,\n",
    "    x_col=\"file\",\n",
    "    y_col=\"label\",\n",
    "    target_size=(150, 150),\n",
    "    batch_size=32,\n",
    "    class_mode='binary')\n",
    "\n",
    "test_generator = datagen.flow_from_dataframe(\n",
    "    dataframe=test_df,\n",
    "    x_col=\"file\",\n",
    "    y_col=\"label\",\n",
    "    target_size=(150, 150),\n",
    "    batch_size=32,\n",
    "    class_mode='binary')\n"
   ]
  },
  {
   "cell_type": "markdown",
   "metadata": {},
   "source": [
    "Création du modèle"
   ]
  },
  {
   "cell_type": "code",
   "execution_count": 7,
   "metadata": {},
   "outputs": [
    {
     "name": "stdout",
     "output_type": "stream",
     "text": [
      "WARNING:tensorflow:From C:\\Users\\Eleves\\AppData\\Local\\Packages\\PythonSoftwareFoundation.Python.3.11_qbz5n2kfra8p0\\LocalCache\\local-packages\\Python311\\site-packages\\keras\\src\\backend.py:873: The name tf.get_default_graph is deprecated. Please use tf.compat.v1.get_default_graph instead.\n",
      "\n"
     ]
    }
   ],
   "source": [
    "model = tf.keras.models.Sequential([\n",
    "    tf.keras.layers.Flatten(input_shape=(150, 150, 3)),\n",
    "    tf.keras.layers.Dense(1, activation='sigmoid')\n",
    "])\n",
    "\n",
    "\n",
    "model.compile(loss='binary_crossentropy',\n",
    "              optimizer=tf.keras.optimizers.Adam(),\n",
    "              metrics=['accuracy'])"
   ]
  },
  {
   "cell_type": "markdown",
   "metadata": {},
   "source": [
    "Entraînement du modèle"
   ]
  },
  {
   "cell_type": "code",
   "execution_count": 8,
   "metadata": {},
   "outputs": [
    {
     "name": "stdout",
     "output_type": "stream",
     "text": [
      "Epoch 1/15\n",
      "WARNING:tensorflow:From C:\\Users\\Eleves\\AppData\\Local\\Packages\\PythonSoftwareFoundation.Python.3.11_qbz5n2kfra8p0\\LocalCache\\local-packages\\Python311\\site-packages\\keras\\src\\utils\\tf_utils.py:492: The name tf.ragged.RaggedTensorValue is deprecated. Please use tf.compat.v1.ragged.RaggedTensorValue instead.\n",
      "\n",
      "WARNING:tensorflow:From C:\\Users\\Eleves\\AppData\\Local\\Packages\\PythonSoftwareFoundation.Python.3.11_qbz5n2kfra8p0\\LocalCache\\local-packages\\Python311\\site-packages\\keras\\src\\engine\\base_layer_utils.py:384: The name tf.executing_eagerly_outside_functions is deprecated. Please use tf.compat.v1.executing_eagerly_outside_functions instead.\n",
      "\n",
      "WARNING:tensorflow:Your input ran out of data; interrupting training. Make sure that your dataset or generator can generate at least `steps_per_epoch * epochs` batches (in this case, 50 batches). You may need to use the repeat() function when building your dataset.\n",
      "1/1 - 5s - loss: 0.7741 - accuracy: 0.3438 - val_loss: 15.8343 - val_accuracy: 0.5000 - 5s/epoch - 5s/step\n",
      "Epoch 2/15\n",
      "1/1 - 1s - loss: 7.8227 - accuracy: 0.7500 - 1s/epoch - 1s/step\n",
      "Epoch 3/15\n",
      "1/1 - 1s - loss: 8.5494 - accuracy: 0.7500 - 982ms/epoch - 982ms/step\n",
      "Epoch 4/15\n",
      "1/1 - 1s - loss: 5.5359 - accuracy: 0.7188 - 1s/epoch - 1s/step\n",
      "Epoch 5/15\n",
      "1/1 - 1s - loss: 0.6801 - accuracy: 0.7188 - 1s/epoch - 1s/step\n",
      "Epoch 6/15\n",
      "1/1 - 1s - loss: 10.8886 - accuracy: 0.4062 - 1s/epoch - 1s/step\n",
      "Epoch 7/15\n",
      "1/1 - 2s - loss: 9.8726 - accuracy: 0.4688 - 2s/epoch - 2s/step\n",
      "Epoch 8/15\n",
      "1/1 - 1s - loss: 6.3448 - accuracy: 0.2812 - 1s/epoch - 1s/step\n",
      "Epoch 9/15\n",
      "1/1 - 1s - loss: 2.1116 - accuracy: 0.6562 - 1s/epoch - 1s/step\n",
      "Epoch 10/15\n",
      "1/1 - 1s - loss: 6.1055 - accuracy: 0.6250 - 1s/epoch - 1s/step\n",
      "Epoch 11/15\n",
      "1/1 - 1s - loss: 7.9111 - accuracy: 0.5938 - 1s/epoch - 1s/step\n",
      "Epoch 12/15\n",
      "1/1 - 1s - loss: 5.2564 - accuracy: 0.7188 - 1s/epoch - 1s/step\n",
      "Epoch 13/15\n",
      "1/1 - 1s - loss: 4.3504 - accuracy: 0.6875 - 1s/epoch - 1s/step\n",
      "Epoch 14/15\n",
      "1/1 - 1s - loss: 2.4929 - accuracy: 0.6562 - 1s/epoch - 1s/step\n",
      "Epoch 15/15\n",
      "1/1 - 1s - loss: 0.8252 - accuracy: 0.5625 - 1s/epoch - 1s/step\n"
     ]
    }
   ],
   "source": [
    "history = model.fit(\n",
    "      train_generator,\n",
    "      steps_per_epoch=1,  # nombre d'images = batch_size * steps\n",
    "      epochs=15,\n",
    "      validation_data=validation_generator,\n",
    "      validation_steps=50,  # nombre d'images = batch_size * steps\n",
    "      verbose=2)"
   ]
  },
  {
   "cell_type": "code",
   "execution_count": 9,
   "metadata": {},
   "outputs": [
    {
     "name": "stdout",
     "output_type": "stream",
     "text": [
      "20/20 [==============================] - 20s 1s/step - loss: 3.8048 - accuracy: 0.3750\n"
     ]
    },
    {
     "data": {
      "text/plain": [
       "[3.804805278778076, 0.375]"
      ]
     },
     "execution_count": 9,
     "metadata": {},
     "output_type": "execute_result"
    }
   ],
   "source": [
    "model.evaluate(test_generator)"
   ]
  },
  {
   "cell_type": "code",
   "execution_count": 10,
   "metadata": {},
   "outputs": [
    {
     "data": {
      "image/png": "[encoded data removed]",
      "text/plain": [
       "<Figure size 1200x400 with 2 Axes>"
      ]
     },
     "metadata": {},
     "output_type": "display_data"
    }
   ],
   "source": [
    "import matplotlib.pyplot as plt\n",
    "\n",
    "# Plot training & validation accuracy values\n",
    "plt.figure(figsize=(12, 4))\n",
    "plt.subplot(1, 2, 1)\n",
    "plt.plot(history.history['accuracy'])\n",
    "plt.plot(history.history['val_accuracy'])\n",
    "plt.title('Model accuracy')\n",
    "plt.ylabel('Accuracy')\n",
    "plt.xlabel('Epoch')\n",
    "plt.legend(['Train', 'Validation'], loc='upper left')\n",
    "\n",
    "# Plot training & validation loss values\n",
    "plt.subplot(1, 2, 2)\n",
    "plt.plot(history.history['loss'])\n",
    "plt.plot(history.history['val_loss'])\n",
    "plt.title('Model loss')\n",
    "plt.ylabel('Loss')\n",
    "plt.xlabel('Epoch')\n",
    "plt.legend(['Train', 'Validation'], loc='upper left')\n",
    "\n",
    "plt.tight_layout()\n",
    "plt.show()\n"
   ]
  },
  {
   "cell_type": "code",
   "execution_count": 11,
   "metadata": {},
   "outputs": [
    {
     "ename": "NameError",
     "evalue": "name 'y_true' is not defined",
     "output_type": "error",
     "traceback": [
      "\u001b[1;31m---------------------------------------------------------------------------\u001b[0m",
      "\u001b[1;31mNameError\u001b[0m                                 Traceback (most recent call last)",
      "Cell \u001b[1;32mIn[11], line 4\u001b[0m\n\u001b[0;32m      1\u001b[0m \u001b[38;5;28;01mfrom\u001b[39;00m \u001b[38;5;21;01msklearn\u001b[39;00m\u001b[38;5;21;01m.\u001b[39;00m\u001b[38;5;21;01mmetrics\u001b[39;00m \u001b[38;5;28;01mimport\u001b[39;00m accuracy_score, precision_score, recall_score, f1_score, roc_auc_score\n\u001b[0;32m      3\u001b[0m \u001b[38;5;66;03m# Assume y_true are your true labels and y_pred are the predicted labels\u001b[39;00m\n\u001b[1;32m----> 4\u001b[0m accuracy \u001b[38;5;241m=\u001b[39m accuracy_score(\u001b[43my_true\u001b[49m, y_pred)\n\u001b[0;32m      5\u001b[0m precision \u001b[38;5;241m=\u001b[39m precision_score(y_true, y_pred)\n\u001b[0;32m      6\u001b[0m recall \u001b[38;5;241m=\u001b[39m recall_score(y_true, y_pred)\n",
      "\u001b[1;31mNameError\u001b[0m: name 'y_true' is not defined"
     ]
    }
   ],
   "source": [
    "from sklearn.metrics import accuracy_score, precision_score, recall_score, f1_score, roc_auc_score\n",
    "\n",
    "# Assume y_true are your true labels and y_pred are the predicted labels\n",
    "accuracy = accuracy_score(y_true, y_pred)\n",
    "precision = precision_score(y_true, y_pred)\n",
    "recall = recall_score(y_true, y_pred)\n",
    "f1 = f1_score(y_true, y_pred)\n",
    "roc_auc = roc_auc_score(y_true, y_pred)\n",
    "\n",
    "print(f'Accuracy: {accuracy}')\n",
    "print(f'Precision: {precision}')\n",
    "print(f'Recall: {recall}')\n",
    "print(f'F1 Score: {f1}')\n",
    "print(f'ROC AUC Score: {roc_auc}')"
   ]
  }
 ],
 "metadata": {
  "kernelspec": {
   "display_name": "Python 3",
   "language": "python",
   "name": "python3"
  },
  "language_info": {
   "codemirror_mode": {
    "name": "ipython",
    "version": 3
   },
   "file_extension": ".py",
   "mimetype": "text/x-python",
   "name": "python",
   "nbconvert_exporter": "python",
   "pygments_lexer": "ipython3",
   "version": "3.11.8"
  }
 },
 "nbformat": 4,
 "nbformat_minor": 2
}
