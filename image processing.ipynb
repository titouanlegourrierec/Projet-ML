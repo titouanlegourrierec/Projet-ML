{
 "cells": [
  {
   "cell_type": "code",
   "execution_count": 8,
   "metadata": {},
   "outputs": [],
   "source": [
    "import os\n",
    "import pandas as pd\n",
    "from tensorflow.keras.preprocessing.image import ImageDataGenerator\n",
    "import tensorflow as tf"
   ]
  },
  {
   "cell_type": "code",
   "execution_count": null,
   "metadata": {},
   "outputs": [],
   "source": [
    "# Importing libraries\n",
    "\n",
    "import numpy as np\n",
    "import matplotlib.pyplot as plt\n",
    "import seaborn as sns\n",
    "import cv2\n",
    "\n",
    "from sklearn.neighbors import KNeighborsClassifier\n",
    "from sklearn.linear_model import LogisticRegression\n",
    "from sklearn.tree import DecisionTreeClassifier\n",
    "from sklearn.ensemble import RandomForestClassifier\n",
    "from sklearn.svm import SVC\n",
    "\n",
    "from sklearn.utils import shuffle as shf\n",
    "from sklearn.model_selection import train_test_split\n",
    "from sklearn.metrics import accuracy_score, precision_score, recall_score, f1_score, confusion_matrix\n",
    "\n",
    "\n",
    "\n",
    "#import pickle\n",
    "#import glob as gb\n",
    "\n",
    "from imblearn.over_sampling import SMOTE"
   ]
  },
  {
   "cell_type": "markdown",
   "metadata": {},
   "source": [
    "Générateur des images"
   ]
  },
  {
   "cell_type": "code",
   "execution_count": null,
   "metadata": {},
   "outputs": [],
   "source": [
    "# Directory containing images\n",
    "path = '/Users/titouanlegourrierec/Desktop/chest_xray_global'\n",
    "\n",
    "size = 64\n",
    "\n",
    "# Lists to store resized images and corresponding labels\n",
    "X_import = []\n",
    "y_import = []\n",
    "\n",
    "# Traverse through the directories in the images directory\n",
    "for folder in os.listdir(path):\n",
    "    if folder != \".DS_Store\":\n",
    "        files = os.listdir(os.path.join(path, folder)) # Get the list of image files in the current folder\n",
    "        for file in files:\n",
    "            if file.endswith('.jpeg'):\n",
    "                image_path = os.path.join(path, folder, file) # Construct path to the image file\n",
    "                image = cv2.imread(image_path) # Read the image using OpenCV\n",
    "                resized_image = cv2.resize(image, (size, size)) # Resize the image to 64 x 64 pixels\n",
    "                X_import.append(resized_image) # Append the resized image to X_import\n",
    "                y_import.append(code[folder]) # Append the label of the image to y_import\n",
    "\n",
    "# Convert lists to numpy arrays for efficient computation\n",
    "X_import = np.array(X_import)\n",
    "y_import = np.array(y_import)"
   ]
  },
  {
   "cell_type": "code",
   "execution_count": null,
   "metadata": {},
   "outputs": [],
   "source": [
    "# Split the data into training and testing sets\n",
    "X_train, X_test, y_train, y_test = train_test_split(X_import, y_import, test_size=0.2, random_state=1234) # random_state=1234 to make the work reproducible"
   ]
  },
  {
   "cell_type": "code",
   "execution_count": 12,
   "metadata": {},
   "outputs": [
    {
     "name": "stdout",
     "output_type": "stream",
     "text": [
      "Found 5216 validated image filenames belonging to 2 classes.\n",
      "Found 16 validated image filenames belonging to 2 classes.\n",
      "Found 624 validated image filenames belonging to 2 classes.\n"
     ]
    },
    {
     "name": "stderr",
     "output_type": "stream",
     "text": [
      "/Users/titouanlegourrierec/anaconda3/lib/python3.11/site-packages/keras/src/preprocessing/image.py:1137: UserWarning: Found 2 invalid image filename(s) in x_col=\"file\". These filename(s) will be ignored.\n",
      "  warnings.warn(\n",
      "/Users/titouanlegourrierec/anaconda3/lib/python3.11/site-packages/keras/src/preprocessing/image.py:1137: UserWarning: Found 2 invalid image filename(s) in x_col=\"file\". These filename(s) will be ignored.\n",
      "  warnings.warn(\n"
     ]
    }
   ],
   "source": [
    "# Initialize the ImageDataGenerator\n",
    "datagen = ImageDataGenerator(\n",
    "    rescale=1./255.,  # scale pixel values to [0, 1]\n",
    "    shear_range=0.2,  # randomly apply shearing transformations\n",
    "    zoom_range=0.2,  # randomly zooming inside pictures\n",
    "    horizontal_flip=True  # randomly flip half of the images horizontally\n",
    ")\n",
    "\n",
    "train_generator = datagen.flow_from_dataframe(  \n",
    "    X_train,\n",
    "    y_train,\n",
    "    target_size=(150, 150),\n",
    "    batch_size=32,\n",
    "    class_mode='binary')\n",
    "\n",
    "test_generator = datagen.flow_from_dataframe(\n",
    "    X_test,\n",
    "    y_test,\n",
    "    target_size=(150, 150),\n",
    "    batch_size=32,\n",
    "    class_mode='binary')\n"
   ]
  },
  {
   "cell_type": "markdown",
   "metadata": {},
   "source": [
    "Création du modèle"
   ]
  },
  {
   "cell_type": "code",
   "execution_count": 13,
   "metadata": {},
   "outputs": [
    {
     "name": "stderr",
     "output_type": "stream",
     "text": [
      "WARNING:absl:At this time, the v2.11+ optimizer `tf.keras.optimizers.RMSprop` runs slowly on M1/M2 Macs, please use the legacy Keras optimizer instead, located at `tf.keras.optimizers.legacy.RMSprop`.\n",
      "WARNING:absl:`lr` is deprecated in Keras optimizer, please use `learning_rate` or use the legacy optimizer, e.g.,tf.keras.optimizers.legacy.RMSprop.\n"
     ]
    }
   ],
   "source": [
    "model = tf.keras.models.Sequential([\n",
    "    tf.keras.layers.Conv2D(32, (3,3), activation='relu', input_shape=(150, 150, 3)),\n",
    "    tf.keras.layers.MaxPooling2D(2, 2),\n",
    "    tf.keras.layers.Conv2D(64, (3,3), activation='relu'),\n",
    "    tf.keras.layers.MaxPooling2D(2,2),\n",
    "    tf.keras.layers.Conv2D(128, (3,3), activation='relu'),\n",
    "    tf.keras.layers.MaxPooling2D(2,2),\n",
    "    tf.keras.layers.Flatten(),\n",
    "    tf.keras.layers.Dense(512, activation='relu'),\n",
    "    tf.keras.layers.Dense(1, activation='sigmoid')\n",
    "])\n",
    "\n",
    "model.compile(loss='binary_crossentropy',\n",
    "              optimizer=tf.keras.optimizers.RMSprop(lr=0.001),\n",
    "              metrics=['accuracy'])"
   ]
  },
  {
   "cell_type": "markdown",
   "metadata": {},
   "source": [
    "Entraînement du modèle"
   ]
  },
  {
   "cell_type": "code",
   "execution_count": 14,
   "metadata": {},
   "outputs": [
    {
     "name": "stdout",
     "output_type": "stream",
     "text": [
      "Epoch 1/15\n",
      "WARNING:tensorflow:Your input ran out of data; interrupting training. Make sure that your dataset or generator can generate at least `steps_per_epoch * epochs` batches (in this case, 50 batches). You may need to use the repeat() function when building your dataset.\n"
     ]
    },
    {
     "name": "stderr",
     "output_type": "stream",
     "text": [
      "WARNING:tensorflow:Your input ran out of data; interrupting training. Make sure that your dataset or generator can generate at least `steps_per_epoch * epochs` batches (in this case, 50 batches). You may need to use the repeat() function when building your dataset.\n"
     ]
    },
    {
     "name": "stdout",
     "output_type": "stream",
     "text": [
      "100/100 - 28s - loss: 0.6646 - accuracy: 0.7559 - val_loss: 1.5724 - val_accuracy: 0.5000 - 28s/epoch - 278ms/step\n",
      "Epoch 2/15\n",
      "100/100 - 28s - loss: 0.3611 - accuracy: 0.8503 - 28s/epoch - 277ms/step\n",
      "Epoch 3/15\n",
      "100/100 - 28s - loss: 0.2772 - accuracy: 0.8913 - 28s/epoch - 275ms/step\n",
      "Epoch 4/15\n",
      "100/100 - 29s - loss: 0.2510 - accuracy: 0.8972 - 29s/epoch - 288ms/step\n",
      "Epoch 5/15\n",
      "100/100 - 29s - loss: 0.2283 - accuracy: 0.9103 - 29s/epoch - 295ms/step\n",
      "Epoch 6/15\n",
      "100/100 - 29s - loss: 0.1952 - accuracy: 0.9209 - 29s/epoch - 291ms/step\n",
      "Epoch 7/15\n",
      "100/100 - 29s - loss: 0.1827 - accuracy: 0.9297 - 29s/epoch - 290ms/step\n",
      "Epoch 8/15\n",
      "100/100 - 29s - loss: 0.1825 - accuracy: 0.9319 - 29s/epoch - 287ms/step\n",
      "Epoch 9/15\n",
      "100/100 - 29s - loss: 0.1717 - accuracy: 0.9325 - 29s/epoch - 287ms/step\n",
      "Epoch 10/15\n",
      "100/100 - 30s - loss: 0.1622 - accuracy: 0.9409 - 30s/epoch - 297ms/step\n",
      "Epoch 11/15\n",
      "100/100 - 30s - loss: 0.1433 - accuracy: 0.9466 - 30s/epoch - 298ms/step\n",
      "Epoch 12/15\n",
      "100/100 - 29s - loss: 0.1394 - accuracy: 0.9444 - 29s/epoch - 293ms/step\n",
      "Epoch 13/15\n",
      "100/100 - 29s - loss: 0.1541 - accuracy: 0.9419 - 29s/epoch - 293ms/step\n",
      "Epoch 14/15\n",
      "100/100 - 29s - loss: 0.1510 - accuracy: 0.9381 - 29s/epoch - 292ms/step\n",
      "Epoch 15/15\n",
      "100/100 - 29s - loss: 0.1310 - accuracy: 0.9538 - 29s/epoch - 294ms/step\n"
     ]
    }
   ],
   "source": [
    "history = model.fit(\n",
    "      train_generator,\n",
    "      steps_per_epoch=15,  # nombre d'images = batch_size * steps\n",
    "      epochs=100,\n",
    "      validation_data=test_generator,\n",
    "      validation_steps=50,  # nombre d'images = batch_size * steps\n",
    "      verbose=2)"
   ]
  },
  {
   "cell_type": "code",
   "execution_count": 15,
   "metadata": {},
   "outputs": [
    {
     "name": "stdout",
     "output_type": "stream",
     "text": [
      "20/20 [==============================] - 4s 221ms/step - loss: 0.5625 - accuracy: 0.7821\n"
     ]
    },
    {
     "data": {
      "text/plain": [
       "[0.5625074505805969, 0.7820512652397156]"
      ]
     },
     "execution_count": 15,
     "metadata": {},
     "output_type": "execute_result"
    }
   ],
   "source": [
    "model.evaluate(test_generator)"
   ]
  },
  {
   "cell_type": "code",
   "execution_count": 1,
   "metadata": {},
   "outputs": [
    {
     "ename": "NameError",
     "evalue": "name 'history' is not defined",
     "output_type": "error",
     "traceback": [
      "\u001b[1;31m---------------------------------------------------------------------------\u001b[0m",
      "\u001b[1;31mNameError\u001b[0m                                 Traceback (most recent call last)",
      "Cell \u001b[1;32mIn[1], line 6\u001b[0m\n\u001b[0;32m      4\u001b[0m plt\u001b[38;5;241m.\u001b[39mfigure(figsize\u001b[38;5;241m=\u001b[39m(\u001b[38;5;241m12\u001b[39m, \u001b[38;5;241m4\u001b[39m))\n\u001b[0;32m      5\u001b[0m plt\u001b[38;5;241m.\u001b[39msubplot(\u001b[38;5;241m1\u001b[39m, \u001b[38;5;241m2\u001b[39m, \u001b[38;5;241m1\u001b[39m)\n\u001b[1;32m----> 6\u001b[0m plt\u001b[38;5;241m.\u001b[39mplot(\u001b[43mhistory\u001b[49m\u001b[38;5;241m.\u001b[39mhistory[\u001b[38;5;124m'\u001b[39m\u001b[38;5;124maccuracy\u001b[39m\u001b[38;5;124m'\u001b[39m])\n\u001b[0;32m      7\u001b[0m plt\u001b[38;5;241m.\u001b[39mplot(history\u001b[38;5;241m.\u001b[39mhistory[\u001b[38;5;124m'\u001b[39m\u001b[38;5;124mval_accuracy\u001b[39m\u001b[38;5;124m'\u001b[39m])\n\u001b[0;32m      8\u001b[0m plt\u001b[38;5;241m.\u001b[39mtitle(\u001b[38;5;124m'\u001b[39m\u001b[38;5;124mModel accuracy\u001b[39m\u001b[38;5;124m'\u001b[39m)\n",
      "\u001b[1;31mNameError\u001b[0m: name 'history' is not defined"
     ]
    },
    {
     "data": {
      "image/png": "[encoded data removed]",
      "text/plain": [
       "<Figure size 1200x400 with 1 Axes>"
      ]
     },
     "metadata": {},
     "output_type": "display_data"
    }
   ],
   "source": [
    "import matplotlib.pyplot as plt\n",
    "\n",
    "# Plot training & validation accuracy values\n",
    "plt.figure(figsize=(12, 4))\n",
    "plt.subplot(1, 2, 1)\n",
    "plt.plot(history.history['accuracy'])\n",
    "plt.plot(history.history['val_accuracy'])\n",
    "plt.title('Model accuracy')\n",
    "plt.ylabel('Accuracy')\n",
    "plt.xlabel('Epoch')\n",
    "plt.legend(['Train', 'Validation'], loc='upper left')\n",
    "\n",
    "# Plot training & validation loss values\n",
    "plt.subplot(1, 2, 2)\n",
    "plt.plot(history.history['loss'])\n",
    "plt.plot(history.history['val_loss'])\n",
    "plt.title('Model loss')\n",
    "plt.ylabel('Loss')\n",
    "plt.xlabel('Epoch')\n",
    "plt.legend(['Train', 'Validation'], loc='upper left')\n",
    "\n",
    "plt.tight_layout()\n",
    "plt.show()\n"
   ]
  }
 ],
 "metadata": {
  "kernelspec": {
   "display_name": "Python 3",
   "language": "python",
   "name": "python3"
  },
  "language_info": {
   "codemirror_mode": {
    "name": "ipython",
    "version": 3
   },
   "file_extension": ".py",
   "mimetype": "text/x-python",
   "name": "python",
   "nbconvert_exporter": "python",
   "pygments_lexer": "ipython3",
   "version": "3.11.8"
  }
 },
 "nbformat": 4,
 "nbformat_minor": 2
}
