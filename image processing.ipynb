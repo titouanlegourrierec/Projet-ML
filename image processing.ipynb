{
 "cells": [
  {
   "cell_type": "code",
   "execution_count": 1,
   "metadata": {},
   "outputs": [
    {
     "name": "stdout",
     "output_type": "stream",
     "text": [
      "                                                   file      label\n",
      "0             chest_xray/train/NORMAL\\IM-0115-0001.jpeg     normal\n",
      "1             chest_xray/train/NORMAL\\IM-0117-0001.jpeg     normal\n",
      "2             chest_xray/train/NORMAL\\IM-0119-0001.jpeg     normal\n",
      "3             chest_xray/train/NORMAL\\IM-0122-0001.jpeg     normal\n",
      "4             chest_xray/train/NORMAL\\IM-0125-0001.jpeg     normal\n",
      "...                                                 ...        ...\n",
      "3787  chest_xray/train/PNEUMONIA\\person438_bacteria_...  pneumonia\n",
      "3788  chest_xray/train/PNEUMONIA\\person438_bacteria_...  pneumonia\n",
      "3789  chest_xray/train/PNEUMONIA\\person438_bacteria_...  pneumonia\n",
      "3790  chest_xray/train/PNEUMONIA\\person438_bacteria_...  pneumonia\n",
      "3791  chest_xray/train/PNEUMONIA\\person438_bacteria_...  pneumonia\n",
      "\n",
      "[3792 rows x 2 columns]\n"
     ]
    }
   ],
   "source": [
    "import os\n",
    "import pandas as pd\n",
    "\n",
    "# Define the directory paths\n",
    "normal_dir = 'chest_xray/train/NORMAL'\n",
    "pneumonia_dir = 'chest_xray/train/PNEUMONIA'\n",
    "\n",
    "# Get the list of all files in each directory\n",
    "normal_files = [os.path.join(normal_dir, file) for file in os.listdir(normal_dir)]\n",
    "pneumonia_files = [os.path.join(pneumonia_dir, file) for file in os.listdir(pneumonia_dir)]\n",
    "\n",
    "# Create a DataFrame\n",
    "df = pd.DataFrame({\n",
    "    'file': normal_files + pneumonia_files,\n",
    "    'label': ['normal'] * len(normal_files) + ['pneumonia'] * len(pneumonia_files)\n",
    "})\n",
    "\n",
    "print(df)"
   ]
  }
 ],
 "metadata": {
  "kernelspec": {
   "display_name": "Python 3",
   "language": "python",
   "name": "python3"
  },
  "language_info": {
   "codemirror_mode": {
    "name": "ipython",
    "version": 3
   },
   "file_extension": ".py",
   "mimetype": "text/x-python",
   "name": "python",
   "nbconvert_exporter": "python",
   "pygments_lexer": "ipython3",
   "version": "3.11.7"
  }
 },
 "nbformat": 4,
 "nbformat_minor": 2
}
